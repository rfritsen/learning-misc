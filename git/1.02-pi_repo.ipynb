{
 "cells": [
  {
   "cell_type": "markdown",
   "metadata": {},
   "source": [
    "#### Reconciling git repos between Mac and RPi to match in the Github.com origin repo\n",
    "Now I want to edit files in Raspberry Pi, post them to Github in my account, and add code I write on my Mac to be tested on the RPi later."
   ]
  },
  {
   "cell_type": "markdown",
   "metadata": {},
   "source": [
    "I wrote a basic file, committed, and now pushing to Github (from the 1.01 tutorial). I got this error:"
   ]
  },
  {
   "cell_type": "code",
   "execution_count": null,
   "metadata": {
    "vscode": {
     "languageId": "shellscript"
    }
   },
   "outputs": [],
   "source": [
    "\"src refspec main does not match any\""
   ]
  },
  {
   "cell_type": "markdown",
   "metadata": {},
   "source": [
    "This means that \"source\" (which is the branch you're pushing from your local machine\") doesn't match any branches in the Github account. To fix this, you need to:"
   ]
  },
  {
   "cell_type": "code",
   "execution_count": null,
   "metadata": {
    "vscode": {
     "languageId": "shellscript"
    }
   },
   "outputs": [],
   "source": []
  },
  {
   "cell_type": "markdown",
   "metadata": {},
   "source": [
    "If you've pushed on the same branch, you are set. If you've pushed to a different branch, you'll need to reconcile them at Github.com. You'll see a button in Github that says \"compare & pull request.\"\n",
    "\n",
    "If there is no code to compare, Github has a dead end - You can't compare anything, but there's no option to \"pull in\" the code into the main branch. To reconcile that, you have to:"
   ]
  }
 ],
 "metadata": {
  "language_info": {
   "name": "python"
  }
 },
 "nbformat": 4,
 "nbformat_minor": 2
}
