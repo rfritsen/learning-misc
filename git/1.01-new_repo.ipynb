{
 "cells": [
  {
   "cell_type": "markdown",
   "metadata": {},
   "source": [
    "#### Starting a new git repo and posting the code to a Github account\n",
    "\n",
    "A git \"repo\" is a folder in a machine with the history tracked. A repo can live in your local machine, and that repo can take code from another repo that lives at Github.com. My goal is to post code from my local repo to Github.com."
   ]
  },
  {
   "cell_type": "markdown",
   "metadata": {},
   "source": [
    "First I have to have a git repo, which I initalize locally."
   ]
  },
  {
   "cell_type": "markdown",
   "metadata": {},
   "source": [
    "Next I need a repo to put code into in Github.com."
   ]
  },
  {
   "cell_type": "markdown",
   "metadata": {},
   "source": [
    "Then I connect the two repos via a \"git remote\" command. Technically, a \"remote\" is the git repo that is online, as it is in a remote location relative to your local machine."
   ]
  },
  {
   "cell_type": "markdown",
   "metadata": {},
   "source": [
    "Then I can push."
   ]
  },
  {
   "cell_type": "code",
   "execution_count": null,
   "metadata": {
    "vscode": {
     "languageId": "shellscript"
    }
   },
   "outputs": [],
   "source": []
  }
 ],
 "metadata": {
  "language_info": {
   "name": "python"
  }
 },
 "nbformat": 4,
 "nbformat_minor": 2
}
