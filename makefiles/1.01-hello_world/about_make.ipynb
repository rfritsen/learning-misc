{
 "cells": [
  {
   "cell_type": "markdown",
   "metadata": {},
   "source": [
    "#### 1.01 - Hello World\n",
    "This follows along with the tutorial at makefiletutorial.com - go there for additional context. The resulting code file is in the makefile in the same folder.\n",
    "\n",
    "Makefiles are usually used to compile C code, but can also be used for python programs. The below are some basic commands that can be used to compile a program, with Python as the base language."
   ]
  },
  {
   "cell_type": "markdown",
   "metadata": {},
   "source": [
    "##### 1.011 - echo \"Hello World\"\n",
    "The \"hello:\" target prints a string to the terminal:"
   ]
  },
  {
   "cell_type": "raw",
   "metadata": {
    "vscode": {
     "languageId": "raw"
    }
   },
   "source": [
    "hello:\n",
    "\techo \"Hello, World!\""
   ]
  },
  {
   "cell_type": "markdown",
   "metadata": {},
   "source": [
    "##### 1.012 - basic.py\n",
    "Now I want to run both the \"hello:\" and \"py:\" targets. \"py:\" calls basic.py; The basic.py file is in the same folder as the makefile. To run it, you need these words:\n",
    "\n",
    "- py: basic.py - This sets py as the \"target\" and \"basic.py\" as the \n",
    "- python3\n",
    "- -m - In many C tutorials, this is -o. -m is the Python specific command (I think).\n",
    "- basic - Note that this drops the .py suffix. Since basic.py has already been specified as a prerequisite, adding the .py throws an error.\n",
    "\n",
    "This will run, but only if you comment out the \"hello:\" target. According to makefiletutorial.com, \"Since there's no target supplied as an argument to the make command, the first target is run.\" We'll try to do that in 1.013."
   ]
  },
  {
   "cell_type": "raw",
   "metadata": {
    "vscode": {
     "languageId": "raw"
    }
   },
   "source": [
    "py: basic.py\n",
    "\tpython3 -m basic"
   ]
  },
  {
   "cell_type": "markdown",
   "metadata": {},
   "source": [
    "##### 1.013 - Running several targets\n",
    "According to the tutorial, \"This next example doesn't do anything new, but is nontheless a good additional example. It will always run both targets, because some_file depends on other_file, which is never created.\"\n",
    "\n",
    "Sure enough, other_file runs first. **The takeaway is that targets will run if they articulate themselves as dependencies.** \n",
    "\n",
    "(for those following along at home, I commented out the basic.py code before running this.)"
   ]
  },
  {
   "cell_type": "raw",
   "metadata": {
    "vscode": {
     "languageId": "raw"
    }
   },
   "source": [
    "some_file: other_file\n",
    "\techo \"This will always run, and runs second\"\n",
    "\ttouch some_file\n",
    "\n",
    "other_file:\n",
    "\techo \"This will always run, and runs first\""
   ]
  },
  {
   "cell_type": "markdown",
   "metadata": {},
   "source": [
    "Let's try that with the basic.py code.\n",
    "Sure enough, \"py:\" runs first, and then \"hello\" runs second. Here's the output to the below code. Note that I didn't include the \"touch\" command form the tutorial, so it seems we don't need it.\n",
    "\n",
    "Terminal Output:\n",
    "Greetings from basic.py!\n",
    "echo \"Hello, World!\"\n",
    "Hello, World!"
   ]
  },
  {
   "cell_type": "raw",
   "metadata": {
    "vscode": {
     "languageId": "raw"
    }
   },
   "source": [
    "hello: py\n",
    "\techo \"Hello, World!\"\n",
    "\n",
    "py: basic.py\n",
    "\tpython3 -m basic py"
   ]
  },
  {
   "cell_type": "markdown",
   "metadata": {},
   "source": [
    "That's all for now. Stay tuned for the next tutorial."
   ]
  }
 ],
 "metadata": {
  "kernelspec": {
   "display_name": "base",
   "language": "python",
   "name": "python3"
  },
  "language_info": {
   "codemirror_mode": {
    "name": "ipython",
    "version": 3
   },
   "file_extension": ".py",
   "mimetype": "text/x-python",
   "name": "python",
   "nbconvert_exporter": "python",
   "pygments_lexer": "ipython3",
   "version": "3.11.7"
  }
 },
 "nbformat": 4,
 "nbformat_minor": 2
}
